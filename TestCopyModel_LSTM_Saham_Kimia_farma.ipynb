{
  "nbformat": 4,
  "nbformat_minor": 0,
  "metadata": {
    "colab": {
      "provenance": [],
      "authorship_tag": "ABX9TyOZMoFRjX0vET+AnY6nzH6B",
      "include_colab_link": true
    },
    "kernelspec": {
      "name": "python3",
      "display_name": "Python 3"
    },
    "language_info": {
      "name": "python"
    }
  },
  "cells": [
    {
      "cell_type": "markdown",
      "metadata": {
        "id": "view-in-github",
        "colab_type": "text"
      },
      "source": [
        "<a href=\"https://colab.research.google.com/github/FajarTampan37/ML/blob/main/TestCopyModel_LSTM_Saham_Kimia_farma.ipynb\" target=\"_parent\"><img src=\"https://colab.research.google.com/assets/colab-badge.svg\" alt=\"Open In Colab\"/></a>"
      ]
    },
    {
      "cell_type": "code",
      "source": [
        "import math\n",
        "import io\n",
        "import numpy as np\n",
        "import pandas as pd\n",
        "import tensorflow as tf\n",
        "import yfinance as yf\n",
        "from keras.models import Sequential\n",
        "from keras.layers import LSTM, Dense, Dropout\n",
        "import matplotlib.pyplot as plt\n",
        "from sklearn.preprocessing import MinMaxScaler\n",
        "import seaborn as sns"
      ],
      "metadata": {
        "id": "Zz79mJb2OYS9"
      },
      "execution_count": 1,
      "outputs": []
    },
    {
      "cell_type": "code",
      "source": [
        "# download the data\n",
        "df = yf.download(tickers=['KAEF.JK'], start='2022-01-06', end='2024-10-21')\n",
        "y = df['Close'].fillna(method='ffill')\n",
        "y = y.values.reshape(-1, 1)"
      ],
      "metadata": {
        "id": "oiaZyuwmO_cC",
        "collapsed": true,
        "colab": {
          "base_uri": "https://localhost:8080/",
          "height": 0
        },
        "outputId": "d488f54d-a339-4df5-869c-2565b217fe02"
      },
      "execution_count": 2,
      "outputs": [
        {
          "output_type": "stream",
          "name": "stdout",
          "text": [
            "YF.download() has changed argument auto_adjust default to True\n"
          ]
        },
        {
          "output_type": "stream",
          "name": "stderr",
          "text": [
            "\r[*********************100%***********************]  1 of 1 completed\n",
            "<ipython-input-2-f1c63947877e>:3: FutureWarning: DataFrame.fillna with 'method' is deprecated and will raise in a future version. Use obj.ffill() or obj.bfill() instead.\n",
            "  y = df['Close'].fillna(method='ffill')\n"
          ]
        }
      ]
    },
    {
      "cell_type": "code",
      "source": [
        "df.info()"
      ],
      "metadata": {
        "id": "lqLC6Bo9dtFo",
        "colab": {
          "base_uri": "https://localhost:8080/",
          "height": 0
        },
        "outputId": "e4235c4e-754a-44e9-a8be-b11093a9ac55"
      },
      "execution_count": 3,
      "outputs": [
        {
          "output_type": "stream",
          "name": "stdout",
          "text": [
            "<class 'pandas.core.frame.DataFrame'>\n",
            "DatetimeIndex: 671 entries, 2022-01-06 to 2024-10-18\n",
            "Data columns (total 5 columns):\n",
            " #   Column             Non-Null Count  Dtype  \n",
            "---  ------             --------------  -----  \n",
            " 0   (Close, KAEF.JK)   671 non-null    float64\n",
            " 1   (High, KAEF.JK)    671 non-null    float64\n",
            " 2   (Low, KAEF.JK)     671 non-null    float64\n",
            " 3   (Open, KAEF.JK)    671 non-null    float64\n",
            " 4   (Volume, KAEF.JK)  671 non-null    int64  \n",
            "dtypes: float64(4), int64(1)\n",
            "memory usage: 31.5 KB\n"
          ]
        }
      ]
    },
    {
      "cell_type": "code",
      "source": [
        "df.isnull().sum()/len(df)"
      ],
      "metadata": {
        "colab": {
          "base_uri": "https://localhost:8080/",
          "height": 272
        },
        "collapsed": true,
        "id": "qQcPKWlC396H",
        "outputId": "bd8a1fee-6979-46eb-8b9f-c83a9d46030a"
      },
      "execution_count": 4,
      "outputs": [
        {
          "output_type": "execute_result",
          "data": {
            "text/plain": [
              "Price   Ticker \n",
              "Close   KAEF.JK    0.0\n",
              "High    KAEF.JK    0.0\n",
              "Low     KAEF.JK    0.0\n",
              "Open    KAEF.JK    0.0\n",
              "Volume  KAEF.JK    0.0\n",
              "dtype: float64"
            ],
            "text/html": [
              "<div>\n",
              "<style scoped>\n",
              "    .dataframe tbody tr th:only-of-type {\n",
              "        vertical-align: middle;\n",
              "    }\n",
              "\n",
              "    .dataframe tbody tr th {\n",
              "        vertical-align: top;\n",
              "    }\n",
              "\n",
              "    .dataframe thead th {\n",
              "        text-align: right;\n",
              "    }\n",
              "</style>\n",
              "<table border=\"1\" class=\"dataframe\">\n",
              "  <thead>\n",
              "    <tr style=\"text-align: right;\">\n",
              "      <th></th>\n",
              "      <th></th>\n",
              "      <th>0</th>\n",
              "    </tr>\n",
              "    <tr>\n",
              "      <th>Price</th>\n",
              "      <th>Ticker</th>\n",
              "      <th></th>\n",
              "    </tr>\n",
              "  </thead>\n",
              "  <tbody>\n",
              "    <tr>\n",
              "      <th>Close</th>\n",
              "      <th>KAEF.JK</th>\n",
              "      <td>0.0</td>\n",
              "    </tr>\n",
              "    <tr>\n",
              "      <th>High</th>\n",
              "      <th>KAEF.JK</th>\n",
              "      <td>0.0</td>\n",
              "    </tr>\n",
              "    <tr>\n",
              "      <th>Low</th>\n",
              "      <th>KAEF.JK</th>\n",
              "      <td>0.0</td>\n",
              "    </tr>\n",
              "    <tr>\n",
              "      <th>Open</th>\n",
              "      <th>KAEF.JK</th>\n",
              "      <td>0.0</td>\n",
              "    </tr>\n",
              "    <tr>\n",
              "      <th>Volume</th>\n",
              "      <th>KAEF.JK</th>\n",
              "      <td>0.0</td>\n",
              "    </tr>\n",
              "  </tbody>\n",
              "</table>\n",
              "</div><br><label><b>dtype:</b> float64</label>"
            ]
          },
          "metadata": {},
          "execution_count": 4
        }
      ]
    },
    {
      "cell_type": "code",
      "source": [
        "df"
      ],
      "metadata": {
        "collapsed": true,
        "colab": {
          "base_uri": "https://localhost:8080/",
          "height": 486
        },
        "id": "b_FXG4qR7bdJ",
        "outputId": "c665c3bd-fd2a-44cb-d3f9-de099d07fc14"
      },
      "execution_count": 5,
      "outputs": [
        {
          "output_type": "execute_result",
          "data": {
            "text/plain": [
              "Price             Close         High          Low         Open    Volume\n",
              "Ticker          KAEF.JK      KAEF.JK      KAEF.JK      KAEF.JK   KAEF.JK\n",
              "Date                                                                    \n",
              "2022-01-06  2452.824219  2531.947581  2423.152958  2433.043378   4883300\n",
              "2022-01-07  2413.262695  2472.605221  2403.372274  2452.824379   2872200\n",
              "2022-01-10  2561.618896  2591.290158  2413.262590  2423.153010  10207500\n",
              "2022-01-11  2393.481689  2601.180514  2383.591269  2561.618833  10175400\n",
              "2022-01-12  2324.248779  2423.152983  2304.467939  2393.481722   4179200\n",
              "...                 ...          ...          ...          ...       ...\n",
              "2024-10-14   715.000000   730.000000   710.000000   725.000000   1596500\n",
              "2024-10-15   725.000000   730.000000   710.000000   720.000000    776400\n",
              "2024-10-16   725.000000   730.000000   720.000000   725.000000    814300\n",
              "2024-10-17   725.000000   740.000000   725.000000   725.000000   1114700\n",
              "2024-10-18   725.000000   735.000000   720.000000   725.000000    965900\n",
              "\n",
              "[671 rows x 5 columns]"
            ],
            "text/html": [
              "\n",
              "  <div id=\"df-bcf75e3f-22ed-4e46-8924-8315b169b270\" class=\"colab-df-container\">\n",
              "    <div>\n",
              "<style scoped>\n",
              "    .dataframe tbody tr th:only-of-type {\n",
              "        vertical-align: middle;\n",
              "    }\n",
              "\n",
              "    .dataframe tbody tr th {\n",
              "        vertical-align: top;\n",
              "    }\n",
              "\n",
              "    .dataframe thead tr th {\n",
              "        text-align: left;\n",
              "    }\n",
              "\n",
              "    .dataframe thead tr:last-of-type th {\n",
              "        text-align: right;\n",
              "    }\n",
              "</style>\n",
              "<table border=\"1\" class=\"dataframe\">\n",
              "  <thead>\n",
              "    <tr>\n",
              "      <th>Price</th>\n",
              "      <th>Close</th>\n",
              "      <th>High</th>\n",
              "      <th>Low</th>\n",
              "      <th>Open</th>\n",
              "      <th>Volume</th>\n",
              "    </tr>\n",
              "    <tr>\n",
              "      <th>Ticker</th>\n",
              "      <th>KAEF.JK</th>\n",
              "      <th>KAEF.JK</th>\n",
              "      <th>KAEF.JK</th>\n",
              "      <th>KAEF.JK</th>\n",
              "      <th>KAEF.JK</th>\n",
              "    </tr>\n",
              "    <tr>\n",
              "      <th>Date</th>\n",
              "      <th></th>\n",
              "      <th></th>\n",
              "      <th></th>\n",
              "      <th></th>\n",
              "      <th></th>\n",
              "    </tr>\n",
              "  </thead>\n",
              "  <tbody>\n",
              "    <tr>\n",
              "      <th>2022-01-06</th>\n",
              "      <td>2452.824219</td>\n",
              "      <td>2531.947581</td>\n",
              "      <td>2423.152958</td>\n",
              "      <td>2433.043378</td>\n",
              "      <td>4883300</td>\n",
              "    </tr>\n",
              "    <tr>\n",
              "      <th>2022-01-07</th>\n",
              "      <td>2413.262695</td>\n",
              "      <td>2472.605221</td>\n",
              "      <td>2403.372274</td>\n",
              "      <td>2452.824379</td>\n",
              "      <td>2872200</td>\n",
              "    </tr>\n",
              "    <tr>\n",
              "      <th>2022-01-10</th>\n",
              "      <td>2561.618896</td>\n",
              "      <td>2591.290158</td>\n",
              "      <td>2413.262590</td>\n",
              "      <td>2423.153010</td>\n",
              "      <td>10207500</td>\n",
              "    </tr>\n",
              "    <tr>\n",
              "      <th>2022-01-11</th>\n",
              "      <td>2393.481689</td>\n",
              "      <td>2601.180514</td>\n",
              "      <td>2383.591269</td>\n",
              "      <td>2561.618833</td>\n",
              "      <td>10175400</td>\n",
              "    </tr>\n",
              "    <tr>\n",
              "      <th>2022-01-12</th>\n",
              "      <td>2324.248779</td>\n",
              "      <td>2423.152983</td>\n",
              "      <td>2304.467939</td>\n",
              "      <td>2393.481722</td>\n",
              "      <td>4179200</td>\n",
              "    </tr>\n",
              "    <tr>\n",
              "      <th>...</th>\n",
              "      <td>...</td>\n",
              "      <td>...</td>\n",
              "      <td>...</td>\n",
              "      <td>...</td>\n",
              "      <td>...</td>\n",
              "    </tr>\n",
              "    <tr>\n",
              "      <th>2024-10-14</th>\n",
              "      <td>715.000000</td>\n",
              "      <td>730.000000</td>\n",
              "      <td>710.000000</td>\n",
              "      <td>725.000000</td>\n",
              "      <td>1596500</td>\n",
              "    </tr>\n",
              "    <tr>\n",
              "      <th>2024-10-15</th>\n",
              "      <td>725.000000</td>\n",
              "      <td>730.000000</td>\n",
              "      <td>710.000000</td>\n",
              "      <td>720.000000</td>\n",
              "      <td>776400</td>\n",
              "    </tr>\n",
              "    <tr>\n",
              "      <th>2024-10-16</th>\n",
              "      <td>725.000000</td>\n",
              "      <td>730.000000</td>\n",
              "      <td>720.000000</td>\n",
              "      <td>725.000000</td>\n",
              "      <td>814300</td>\n",
              "    </tr>\n",
              "    <tr>\n",
              "      <th>2024-10-17</th>\n",
              "      <td>725.000000</td>\n",
              "      <td>740.000000</td>\n",
              "      <td>725.000000</td>\n",
              "      <td>725.000000</td>\n",
              "      <td>1114700</td>\n",
              "    </tr>\n",
              "    <tr>\n",
              "      <th>2024-10-18</th>\n",
              "      <td>725.000000</td>\n",
              "      <td>735.000000</td>\n",
              "      <td>720.000000</td>\n",
              "      <td>725.000000</td>\n",
              "      <td>965900</td>\n",
              "    </tr>\n",
              "  </tbody>\n",
              "</table>\n",
              "<p>671 rows × 5 columns</p>\n",
              "</div>\n",
              "    <div class=\"colab-df-buttons\">\n",
              "\n",
              "  <div class=\"colab-df-container\">\n",
              "    <button class=\"colab-df-convert\" onclick=\"convertToInteractive('df-bcf75e3f-22ed-4e46-8924-8315b169b270')\"\n",
              "            title=\"Convert this dataframe to an interactive table.\"\n",
              "            style=\"display:none;\">\n",
              "\n",
              "  <svg xmlns=\"http://www.w3.org/2000/svg\" height=\"24px\" viewBox=\"0 -960 960 960\">\n",
              "    <path d=\"M120-120v-720h720v720H120Zm60-500h600v-160H180v160Zm220 220h160v-160H400v160Zm0 220h160v-160H400v160ZM180-400h160v-160H180v160Zm440 0h160v-160H620v160ZM180-180h160v-160H180v160Zm440 0h160v-160H620v160Z\"/>\n",
              "  </svg>\n",
              "    </button>\n",
              "\n",
              "  <style>\n",
              "    .colab-df-container {\n",
              "      display:flex;\n",
              "      gap: 12px;\n",
              "    }\n",
              "\n",
              "    .colab-df-convert {\n",
              "      background-color: #E8F0FE;\n",
              "      border: none;\n",
              "      border-radius: 50%;\n",
              "      cursor: pointer;\n",
              "      display: none;\n",
              "      fill: #1967D2;\n",
              "      height: 32px;\n",
              "      padding: 0 0 0 0;\n",
              "      width: 32px;\n",
              "    }\n",
              "\n",
              "    .colab-df-convert:hover {\n",
              "      background-color: #E2EBFA;\n",
              "      box-shadow: 0px 1px 2px rgba(60, 64, 67, 0.3), 0px 1px 3px 1px rgba(60, 64, 67, 0.15);\n",
              "      fill: #174EA6;\n",
              "    }\n",
              "\n",
              "    .colab-df-buttons div {\n",
              "      margin-bottom: 4px;\n",
              "    }\n",
              "\n",
              "    [theme=dark] .colab-df-convert {\n",
              "      background-color: #3B4455;\n",
              "      fill: #D2E3FC;\n",
              "    }\n",
              "\n",
              "    [theme=dark] .colab-df-convert:hover {\n",
              "      background-color: #434B5C;\n",
              "      box-shadow: 0px 1px 3px 1px rgba(0, 0, 0, 0.15);\n",
              "      filter: drop-shadow(0px 1px 2px rgba(0, 0, 0, 0.3));\n",
              "      fill: #FFFFFF;\n",
              "    }\n",
              "  </style>\n",
              "\n",
              "    <script>\n",
              "      const buttonEl =\n",
              "        document.querySelector('#df-bcf75e3f-22ed-4e46-8924-8315b169b270 button.colab-df-convert');\n",
              "      buttonEl.style.display =\n",
              "        google.colab.kernel.accessAllowed ? 'block' : 'none';\n",
              "\n",
              "      async function convertToInteractive(key) {\n",
              "        const element = document.querySelector('#df-bcf75e3f-22ed-4e46-8924-8315b169b270');\n",
              "        const dataTable =\n",
              "          await google.colab.kernel.invokeFunction('convertToInteractive',\n",
              "                                                    [key], {});\n",
              "        if (!dataTable) return;\n",
              "\n",
              "        const docLinkHtml = 'Like what you see? Visit the ' +\n",
              "          '<a target=\"_blank\" href=https://colab.research.google.com/notebooks/data_table.ipynb>data table notebook</a>'\n",
              "          + ' to learn more about interactive tables.';\n",
              "        element.innerHTML = '';\n",
              "        dataTable['output_type'] = 'display_data';\n",
              "        await google.colab.output.renderOutput(dataTable, element);\n",
              "        const docLink = document.createElement('div');\n",
              "        docLink.innerHTML = docLinkHtml;\n",
              "        element.appendChild(docLink);\n",
              "      }\n",
              "    </script>\n",
              "  </div>\n",
              "\n",
              "\n",
              "    <div id=\"df-c684e3e5-d220-41e9-8310-eadfc9cfc099\">\n",
              "      <button class=\"colab-df-quickchart\" onclick=\"quickchart('df-c684e3e5-d220-41e9-8310-eadfc9cfc099')\"\n",
              "                title=\"Suggest charts\"\n",
              "                style=\"display:none;\">\n",
              "\n",
              "<svg xmlns=\"http://www.w3.org/2000/svg\" height=\"24px\"viewBox=\"0 0 24 24\"\n",
              "     width=\"24px\">\n",
              "    <g>\n",
              "        <path d=\"M19 3H5c-1.1 0-2 .9-2 2v14c0 1.1.9 2 2 2h14c1.1 0 2-.9 2-2V5c0-1.1-.9-2-2-2zM9 17H7v-7h2v7zm4 0h-2V7h2v10zm4 0h-2v-4h2v4z\"/>\n",
              "    </g>\n",
              "</svg>\n",
              "      </button>\n",
              "\n",
              "<style>\n",
              "  .colab-df-quickchart {\n",
              "      --bg-color: #E8F0FE;\n",
              "      --fill-color: #1967D2;\n",
              "      --hover-bg-color: #E2EBFA;\n",
              "      --hover-fill-color: #174EA6;\n",
              "      --disabled-fill-color: #AAA;\n",
              "      --disabled-bg-color: #DDD;\n",
              "  }\n",
              "\n",
              "  [theme=dark] .colab-df-quickchart {\n",
              "      --bg-color: #3B4455;\n",
              "      --fill-color: #D2E3FC;\n",
              "      --hover-bg-color: #434B5C;\n",
              "      --hover-fill-color: #FFFFFF;\n",
              "      --disabled-bg-color: #3B4455;\n",
              "      --disabled-fill-color: #666;\n",
              "  }\n",
              "\n",
              "  .colab-df-quickchart {\n",
              "    background-color: var(--bg-color);\n",
              "    border: none;\n",
              "    border-radius: 50%;\n",
              "    cursor: pointer;\n",
              "    display: none;\n",
              "    fill: var(--fill-color);\n",
              "    height: 32px;\n",
              "    padding: 0;\n",
              "    width: 32px;\n",
              "  }\n",
              "\n",
              "  .colab-df-quickchart:hover {\n",
              "    background-color: var(--hover-bg-color);\n",
              "    box-shadow: 0 1px 2px rgba(60, 64, 67, 0.3), 0 1px 3px 1px rgba(60, 64, 67, 0.15);\n",
              "    fill: var(--button-hover-fill-color);\n",
              "  }\n",
              "\n",
              "  .colab-df-quickchart-complete:disabled,\n",
              "  .colab-df-quickchart-complete:disabled:hover {\n",
              "    background-color: var(--disabled-bg-color);\n",
              "    fill: var(--disabled-fill-color);\n",
              "    box-shadow: none;\n",
              "  }\n",
              "\n",
              "  .colab-df-spinner {\n",
              "    border: 2px solid var(--fill-color);\n",
              "    border-color: transparent;\n",
              "    border-bottom-color: var(--fill-color);\n",
              "    animation:\n",
              "      spin 1s steps(1) infinite;\n",
              "  }\n",
              "\n",
              "  @keyframes spin {\n",
              "    0% {\n",
              "      border-color: transparent;\n",
              "      border-bottom-color: var(--fill-color);\n",
              "      border-left-color: var(--fill-color);\n",
              "    }\n",
              "    20% {\n",
              "      border-color: transparent;\n",
              "      border-left-color: var(--fill-color);\n",
              "      border-top-color: var(--fill-color);\n",
              "    }\n",
              "    30% {\n",
              "      border-color: transparent;\n",
              "      border-left-color: var(--fill-color);\n",
              "      border-top-color: var(--fill-color);\n",
              "      border-right-color: var(--fill-color);\n",
              "    }\n",
              "    40% {\n",
              "      border-color: transparent;\n",
              "      border-right-color: var(--fill-color);\n",
              "      border-top-color: var(--fill-color);\n",
              "    }\n",
              "    60% {\n",
              "      border-color: transparent;\n",
              "      border-right-color: var(--fill-color);\n",
              "    }\n",
              "    80% {\n",
              "      border-color: transparent;\n",
              "      border-right-color: var(--fill-color);\n",
              "      border-bottom-color: var(--fill-color);\n",
              "    }\n",
              "    90% {\n",
              "      border-color: transparent;\n",
              "      border-bottom-color: var(--fill-color);\n",
              "    }\n",
              "  }\n",
              "</style>\n",
              "\n",
              "      <script>\n",
              "        async function quickchart(key) {\n",
              "          const quickchartButtonEl =\n",
              "            document.querySelector('#' + key + ' button');\n",
              "          quickchartButtonEl.disabled = true;  // To prevent multiple clicks.\n",
              "          quickchartButtonEl.classList.add('colab-df-spinner');\n",
              "          try {\n",
              "            const charts = await google.colab.kernel.invokeFunction(\n",
              "                'suggestCharts', [key], {});\n",
              "          } catch (error) {\n",
              "            console.error('Error during call to suggestCharts:', error);\n",
              "          }\n",
              "          quickchartButtonEl.classList.remove('colab-df-spinner');\n",
              "          quickchartButtonEl.classList.add('colab-df-quickchart-complete');\n",
              "        }\n",
              "        (() => {\n",
              "          let quickchartButtonEl =\n",
              "            document.querySelector('#df-c684e3e5-d220-41e9-8310-eadfc9cfc099 button');\n",
              "          quickchartButtonEl.style.display =\n",
              "            google.colab.kernel.accessAllowed ? 'block' : 'none';\n",
              "        })();\n",
              "      </script>\n",
              "    </div>\n",
              "\n",
              "  <div id=\"id_9c950821-b51f-4905-8db0-fe824e2fb652\">\n",
              "    <style>\n",
              "      .colab-df-generate {\n",
              "        background-color: #E8F0FE;\n",
              "        border: none;\n",
              "        border-radius: 50%;\n",
              "        cursor: pointer;\n",
              "        display: none;\n",
              "        fill: #1967D2;\n",
              "        height: 32px;\n",
              "        padding: 0 0 0 0;\n",
              "        width: 32px;\n",
              "      }\n",
              "\n",
              "      .colab-df-generate:hover {\n",
              "        background-color: #E2EBFA;\n",
              "        box-shadow: 0px 1px 2px rgba(60, 64, 67, 0.3), 0px 1px 3px 1px rgba(60, 64, 67, 0.15);\n",
              "        fill: #174EA6;\n",
              "      }\n",
              "\n",
              "      [theme=dark] .colab-df-generate {\n",
              "        background-color: #3B4455;\n",
              "        fill: #D2E3FC;\n",
              "      }\n",
              "\n",
              "      [theme=dark] .colab-df-generate:hover {\n",
              "        background-color: #434B5C;\n",
              "        box-shadow: 0px 1px 3px 1px rgba(0, 0, 0, 0.15);\n",
              "        filter: drop-shadow(0px 1px 2px rgba(0, 0, 0, 0.3));\n",
              "        fill: #FFFFFF;\n",
              "      }\n",
              "    </style>\n",
              "    <button class=\"colab-df-generate\" onclick=\"generateWithVariable('df')\"\n",
              "            title=\"Generate code using this dataframe.\"\n",
              "            style=\"display:none;\">\n",
              "\n",
              "  <svg xmlns=\"http://www.w3.org/2000/svg\" height=\"24px\"viewBox=\"0 0 24 24\"\n",
              "       width=\"24px\">\n",
              "    <path d=\"M7,19H8.4L18.45,9,17,7.55,7,17.6ZM5,21V16.75L18.45,3.32a2,2,0,0,1,2.83,0l1.4,1.43a1.91,1.91,0,0,1,.58,1.4,1.91,1.91,0,0,1-.58,1.4L9.25,21ZM18.45,9,17,7.55Zm-12,3A5.31,5.31,0,0,0,4.9,8.1,5.31,5.31,0,0,0,1,6.5,5.31,5.31,0,0,0,4.9,4.9,5.31,5.31,0,0,0,6.5,1,5.31,5.31,0,0,0,8.1,4.9,5.31,5.31,0,0,0,12,6.5,5.46,5.46,0,0,0,6.5,12Z\"/>\n",
              "  </svg>\n",
              "    </button>\n",
              "    <script>\n",
              "      (() => {\n",
              "      const buttonEl =\n",
              "        document.querySelector('#id_9c950821-b51f-4905-8db0-fe824e2fb652 button.colab-df-generate');\n",
              "      buttonEl.style.display =\n",
              "        google.colab.kernel.accessAllowed ? 'block' : 'none';\n",
              "\n",
              "      buttonEl.onclick = () => {\n",
              "        google.colab.notebook.generateWithVariable('df');\n",
              "      }\n",
              "      })();\n",
              "    </script>\n",
              "  </div>\n",
              "\n",
              "    </div>\n",
              "  </div>\n"
            ],
            "application/vnd.google.colaboratory.intrinsic+json": {
              "type": "dataframe",
              "variable_name": "df",
              "summary": "{\n  \"name\": \"df\",\n  \"rows\": 671,\n  \"fields\": [\n    {\n      \"column\": [\n        \"Date\",\n        \"\"\n      ],\n      \"properties\": {\n        \"dtype\": \"date\",\n        \"min\": \"2022-01-06 00:00:00\",\n        \"max\": \"2024-10-18 00:00:00\",\n        \"num_unique_values\": 671,\n        \"samples\": [\n          \"2023-07-07 00:00:00\",\n          \"2022-09-05 00:00:00\",\n          \"2023-12-28 00:00:00\"\n        ],\n        \"semantic_type\": \"\",\n        \"description\": \"\"\n      }\n    },\n    {\n      \"column\": [\n        \"Close\",\n        \"KAEF.JK\"\n      ],\n      \"properties\": {\n        \"dtype\": \"number\",\n        \"std\": 404.5062029246677,\n        \"min\": 560.0,\n        \"max\": 2561.618896484375,\n        \"num_unique_values\": 223,\n        \"samples\": [\n          2146.22119140625,\n          1420.0,\n          1130.0\n        ],\n        \"semantic_type\": \"\",\n        \"description\": \"\"\n      }\n    },\n    {\n      \"column\": [\n        \"High\",\n        \"KAEF.JK\"\n      ],\n      \"properties\": {\n        \"dtype\": \"number\",\n        \"std\": 413.90434741208884,\n        \"min\": 575.0,\n        \"max\": 2601.180513744512,\n        \"num_unique_values\": 249,\n        \"samples\": [\n          1280.0,\n          2344.029740958378,\n          1320.0\n        ],\n        \"semantic_type\": \"\",\n        \"description\": \"\"\n      }\n    },\n    {\n      \"column\": [\n        \"Low\",\n        \"KAEF.JK\"\n      ],\n      \"properties\": {\n        \"dtype\": \"number\",\n        \"std\": 401.3498658249357,\n        \"min\": 535.0,\n        \"max\": 2423.1529580393144,\n        \"num_unique_values\": 242,\n        \"samples\": [\n          2175.892578125,\n          2284.6872158708243,\n          1100.0\n        ],\n        \"semantic_type\": \"\",\n        \"description\": \"\"\n      }\n    },\n    {\n      \"column\": [\n        \"Open\",\n        \"KAEF.JK\"\n      ],\n      \"properties\": {\n        \"dtype\": \"number\",\n        \"std\": 409.46995296838134,\n        \"min\": 535.0,\n        \"max\": 2561.618832927105,\n        \"num_unique_values\": 246,\n        \"samples\": [\n          2076.9882419098044,\n          2334.1393201104524,\n          770.0\n        ],\n        \"semantic_type\": \"\",\n        \"description\": \"\"\n      }\n    },\n    {\n      \"column\": [\n        \"Volume\",\n        \"KAEF.JK\"\n      ],\n      \"properties\": {\n        \"dtype\": \"number\",\n        \"std\": 11287336,\n        \"min\": 76700,\n        \"max\": 171375500,\n        \"num_unique_values\": 657,\n        \"samples\": [\n          6149500,\n          378800,\n          2141000\n        ],\n        \"semantic_type\": \"\",\n        \"description\": \"\"\n      }\n    }\n  ]\n}"
            }
          },
          "metadata": {},
          "execution_count": 5
        }
      ]
    },
    {
      "cell_type": "code",
      "source": [
        "print(df.columns)"
      ],
      "metadata": {
        "collapsed": true,
        "colab": {
          "base_uri": "https://localhost:8080/",
          "height": 0
        },
        "id": "z7Lclj4T7hDI",
        "outputId": "a2263ada-297a-4a10-9594-2982244d8aca"
      },
      "execution_count": 6,
      "outputs": [
        {
          "output_type": "stream",
          "name": "stdout",
          "text": [
            "MultiIndex([( 'Close', 'KAEF.JK'),\n",
            "            (  'High', 'KAEF.JK'),\n",
            "            (   'Low', 'KAEF.JK'),\n",
            "            (  'Open', 'KAEF.JK'),\n",
            "            ('Volume', 'KAEF.JK')],\n",
            "           names=['Price', 'Ticker'])\n"
          ]
        }
      ]
    },
    {
      "cell_type": "code",
      "source": [
        "df = df.drop(['Open','High','Low','Volume'], axis=1)\n",
        "print(df.dtypes)"
      ],
      "metadata": {
        "colab": {
          "base_uri": "https://localhost:8080/",
          "height": 0
        },
        "id": "2LTaThoV7jAi",
        "outputId": "1708b5b1-be16-4f72-9cf2-429bed0a0090",
        "collapsed": true
      },
      "execution_count": 7,
      "outputs": [
        {
          "output_type": "stream",
          "name": "stdout",
          "text": [
            "Price  Ticker \n",
            "Close  KAEF.JK    float64\n",
            "dtype: object\n"
          ]
        }
      ]
    },
    {
      "cell_type": "code",
      "source": [
        "df"
      ],
      "metadata": {
        "colab": {
          "base_uri": "https://localhost:8080/",
          "height": 486
        },
        "collapsed": true,
        "id": "KdVu84eE7mNv",
        "outputId": "52ff79be-8264-4ff5-f5b4-d88b46154296"
      },
      "execution_count": 8,
      "outputs": [
        {
          "output_type": "execute_result",
          "data": {
            "text/plain": [
              "Price             Close\n",
              "Ticker          KAEF.JK\n",
              "Date                   \n",
              "2022-01-06  2452.824219\n",
              "2022-01-07  2413.262695\n",
              "2022-01-10  2561.618896\n",
              "2022-01-11  2393.481689\n",
              "2022-01-12  2324.248779\n",
              "...                 ...\n",
              "2024-10-14   715.000000\n",
              "2024-10-15   725.000000\n",
              "2024-10-16   725.000000\n",
              "2024-10-17   725.000000\n",
              "2024-10-18   725.000000\n",
              "\n",
              "[671 rows x 1 columns]"
            ],
            "text/html": [
              "\n",
              "  <div id=\"df-97f5a5a6-f221-458a-8cc5-4faadce51c33\" class=\"colab-df-container\">\n",
              "    <div>\n",
              "<style scoped>\n",
              "    .dataframe tbody tr th:only-of-type {\n",
              "        vertical-align: middle;\n",
              "    }\n",
              "\n",
              "    .dataframe tbody tr th {\n",
              "        vertical-align: top;\n",
              "    }\n",
              "\n",
              "    .dataframe thead tr th {\n",
              "        text-align: left;\n",
              "    }\n",
              "\n",
              "    .dataframe thead tr:last-of-type th {\n",
              "        text-align: right;\n",
              "    }\n",
              "</style>\n",
              "<table border=\"1\" class=\"dataframe\">\n",
              "  <thead>\n",
              "    <tr>\n",
              "      <th>Price</th>\n",
              "      <th>Close</th>\n",
              "    </tr>\n",
              "    <tr>\n",
              "      <th>Ticker</th>\n",
              "      <th>KAEF.JK</th>\n",
              "    </tr>\n",
              "    <tr>\n",
              "      <th>Date</th>\n",
              "      <th></th>\n",
              "    </tr>\n",
              "  </thead>\n",
              "  <tbody>\n",
              "    <tr>\n",
              "      <th>2022-01-06</th>\n",
              "      <td>2452.824219</td>\n",
              "    </tr>\n",
              "    <tr>\n",
              "      <th>2022-01-07</th>\n",
              "      <td>2413.262695</td>\n",
              "    </tr>\n",
              "    <tr>\n",
              "      <th>2022-01-10</th>\n",
              "      <td>2561.618896</td>\n",
              "    </tr>\n",
              "    <tr>\n",
              "      <th>2022-01-11</th>\n",
              "      <td>2393.481689</td>\n",
              "    </tr>\n",
              "    <tr>\n",
              "      <th>2022-01-12</th>\n",
              "      <td>2324.248779</td>\n",
              "    </tr>\n",
              "    <tr>\n",
              "      <th>...</th>\n",
              "      <td>...</td>\n",
              "    </tr>\n",
              "    <tr>\n",
              "      <th>2024-10-14</th>\n",
              "      <td>715.000000</td>\n",
              "    </tr>\n",
              "    <tr>\n",
              "      <th>2024-10-15</th>\n",
              "      <td>725.000000</td>\n",
              "    </tr>\n",
              "    <tr>\n",
              "      <th>2024-10-16</th>\n",
              "      <td>725.000000</td>\n",
              "    </tr>\n",
              "    <tr>\n",
              "      <th>2024-10-17</th>\n",
              "      <td>725.000000</td>\n",
              "    </tr>\n",
              "    <tr>\n",
              "      <th>2024-10-18</th>\n",
              "      <td>725.000000</td>\n",
              "    </tr>\n",
              "  </tbody>\n",
              "</table>\n",
              "<p>671 rows × 1 columns</p>\n",
              "</div>\n",
              "    <div class=\"colab-df-buttons\">\n",
              "\n",
              "  <div class=\"colab-df-container\">\n",
              "    <button class=\"colab-df-convert\" onclick=\"convertToInteractive('df-97f5a5a6-f221-458a-8cc5-4faadce51c33')\"\n",
              "            title=\"Convert this dataframe to an interactive table.\"\n",
              "            style=\"display:none;\">\n",
              "\n",
              "  <svg xmlns=\"http://www.w3.org/2000/svg\" height=\"24px\" viewBox=\"0 -960 960 960\">\n",
              "    <path d=\"M120-120v-720h720v720H120Zm60-500h600v-160H180v160Zm220 220h160v-160H400v160Zm0 220h160v-160H400v160ZM180-400h160v-160H180v160Zm440 0h160v-160H620v160ZM180-180h160v-160H180v160Zm440 0h160v-160H620v160Z\"/>\n",
              "  </svg>\n",
              "    </button>\n",
              "\n",
              "  <style>\n",
              "    .colab-df-container {\n",
              "      display:flex;\n",
              "      gap: 12px;\n",
              "    }\n",
              "\n",
              "    .colab-df-convert {\n",
              "      background-color: #E8F0FE;\n",
              "      border: none;\n",
              "      border-radius: 50%;\n",
              "      cursor: pointer;\n",
              "      display: none;\n",
              "      fill: #1967D2;\n",
              "      height: 32px;\n",
              "      padding: 0 0 0 0;\n",
              "      width: 32px;\n",
              "    }\n",
              "\n",
              "    .colab-df-convert:hover {\n",
              "      background-color: #E2EBFA;\n",
              "      box-shadow: 0px 1px 2px rgba(60, 64, 67, 0.3), 0px 1px 3px 1px rgba(60, 64, 67, 0.15);\n",
              "      fill: #174EA6;\n",
              "    }\n",
              "\n",
              "    .colab-df-buttons div {\n",
              "      margin-bottom: 4px;\n",
              "    }\n",
              "\n",
              "    [theme=dark] .colab-df-convert {\n",
              "      background-color: #3B4455;\n",
              "      fill: #D2E3FC;\n",
              "    }\n",
              "\n",
              "    [theme=dark] .colab-df-convert:hover {\n",
              "      background-color: #434B5C;\n",
              "      box-shadow: 0px 1px 3px 1px rgba(0, 0, 0, 0.15);\n",
              "      filter: drop-shadow(0px 1px 2px rgba(0, 0, 0, 0.3));\n",
              "      fill: #FFFFFF;\n",
              "    }\n",
              "  </style>\n",
              "\n",
              "    <script>\n",
              "      const buttonEl =\n",
              "        document.querySelector('#df-97f5a5a6-f221-458a-8cc5-4faadce51c33 button.colab-df-convert');\n",
              "      buttonEl.style.display =\n",
              "        google.colab.kernel.accessAllowed ? 'block' : 'none';\n",
              "\n",
              "      async function convertToInteractive(key) {\n",
              "        const element = document.querySelector('#df-97f5a5a6-f221-458a-8cc5-4faadce51c33');\n",
              "        const dataTable =\n",
              "          await google.colab.kernel.invokeFunction('convertToInteractive',\n",
              "                                                    [key], {});\n",
              "        if (!dataTable) return;\n",
              "\n",
              "        const docLinkHtml = 'Like what you see? Visit the ' +\n",
              "          '<a target=\"_blank\" href=https://colab.research.google.com/notebooks/data_table.ipynb>data table notebook</a>'\n",
              "          + ' to learn more about interactive tables.';\n",
              "        element.innerHTML = '';\n",
              "        dataTable['output_type'] = 'display_data';\n",
              "        await google.colab.output.renderOutput(dataTable, element);\n",
              "        const docLink = document.createElement('div');\n",
              "        docLink.innerHTML = docLinkHtml;\n",
              "        element.appendChild(docLink);\n",
              "      }\n",
              "    </script>\n",
              "  </div>\n",
              "\n",
              "\n",
              "    <div id=\"df-000db5c9-2ac8-4859-badc-ab51014c53d5\">\n",
              "      <button class=\"colab-df-quickchart\" onclick=\"quickchart('df-000db5c9-2ac8-4859-badc-ab51014c53d5')\"\n",
              "                title=\"Suggest charts\"\n",
              "                style=\"display:none;\">\n",
              "\n",
              "<svg xmlns=\"http://www.w3.org/2000/svg\" height=\"24px\"viewBox=\"0 0 24 24\"\n",
              "     width=\"24px\">\n",
              "    <g>\n",
              "        <path d=\"M19 3H5c-1.1 0-2 .9-2 2v14c0 1.1.9 2 2 2h14c1.1 0 2-.9 2-2V5c0-1.1-.9-2-2-2zM9 17H7v-7h2v7zm4 0h-2V7h2v10zm4 0h-2v-4h2v4z\"/>\n",
              "    </g>\n",
              "</svg>\n",
              "      </button>\n",
              "\n",
              "<style>\n",
              "  .colab-df-quickchart {\n",
              "      --bg-color: #E8F0FE;\n",
              "      --fill-color: #1967D2;\n",
              "      --hover-bg-color: #E2EBFA;\n",
              "      --hover-fill-color: #174EA6;\n",
              "      --disabled-fill-color: #AAA;\n",
              "      --disabled-bg-color: #DDD;\n",
              "  }\n",
              "\n",
              "  [theme=dark] .colab-df-quickchart {\n",
              "      --bg-color: #3B4455;\n",
              "      --fill-color: #D2E3FC;\n",
              "      --hover-bg-color: #434B5C;\n",
              "      --hover-fill-color: #FFFFFF;\n",
              "      --disabled-bg-color: #3B4455;\n",
              "      --disabled-fill-color: #666;\n",
              "  }\n",
              "\n",
              "  .colab-df-quickchart {\n",
              "    background-color: var(--bg-color);\n",
              "    border: none;\n",
              "    border-radius: 50%;\n",
              "    cursor: pointer;\n",
              "    display: none;\n",
              "    fill: var(--fill-color);\n",
              "    height: 32px;\n",
              "    padding: 0;\n",
              "    width: 32px;\n",
              "  }\n",
              "\n",
              "  .colab-df-quickchart:hover {\n",
              "    background-color: var(--hover-bg-color);\n",
              "    box-shadow: 0 1px 2px rgba(60, 64, 67, 0.3), 0 1px 3px 1px rgba(60, 64, 67, 0.15);\n",
              "    fill: var(--button-hover-fill-color);\n",
              "  }\n",
              "\n",
              "  .colab-df-quickchart-complete:disabled,\n",
              "  .colab-df-quickchart-complete:disabled:hover {\n",
              "    background-color: var(--disabled-bg-color);\n",
              "    fill: var(--disabled-fill-color);\n",
              "    box-shadow: none;\n",
              "  }\n",
              "\n",
              "  .colab-df-spinner {\n",
              "    border: 2px solid var(--fill-color);\n",
              "    border-color: transparent;\n",
              "    border-bottom-color: var(--fill-color);\n",
              "    animation:\n",
              "      spin 1s steps(1) infinite;\n",
              "  }\n",
              "\n",
              "  @keyframes spin {\n",
              "    0% {\n",
              "      border-color: transparent;\n",
              "      border-bottom-color: var(--fill-color);\n",
              "      border-left-color: var(--fill-color);\n",
              "    }\n",
              "    20% {\n",
              "      border-color: transparent;\n",
              "      border-left-color: var(--fill-color);\n",
              "      border-top-color: var(--fill-color);\n",
              "    }\n",
              "    30% {\n",
              "      border-color: transparent;\n",
              "      border-left-color: var(--fill-color);\n",
              "      border-top-color: var(--fill-color);\n",
              "      border-right-color: var(--fill-color);\n",
              "    }\n",
              "    40% {\n",
              "      border-color: transparent;\n",
              "      border-right-color: var(--fill-color);\n",
              "      border-top-color: var(--fill-color);\n",
              "    }\n",
              "    60% {\n",
              "      border-color: transparent;\n",
              "      border-right-color: var(--fill-color);\n",
              "    }\n",
              "    80% {\n",
              "      border-color: transparent;\n",
              "      border-right-color: var(--fill-color);\n",
              "      border-bottom-color: var(--fill-color);\n",
              "    }\n",
              "    90% {\n",
              "      border-color: transparent;\n",
              "      border-bottom-color: var(--fill-color);\n",
              "    }\n",
              "  }\n",
              "</style>\n",
              "\n",
              "      <script>\n",
              "        async function quickchart(key) {\n",
              "          const quickchartButtonEl =\n",
              "            document.querySelector('#' + key + ' button');\n",
              "          quickchartButtonEl.disabled = true;  // To prevent multiple clicks.\n",
              "          quickchartButtonEl.classList.add('colab-df-spinner');\n",
              "          try {\n",
              "            const charts = await google.colab.kernel.invokeFunction(\n",
              "                'suggestCharts', [key], {});\n",
              "          } catch (error) {\n",
              "            console.error('Error during call to suggestCharts:', error);\n",
              "          }\n",
              "          quickchartButtonEl.classList.remove('colab-df-spinner');\n",
              "          quickchartButtonEl.classList.add('colab-df-quickchart-complete');\n",
              "        }\n",
              "        (() => {\n",
              "          let quickchartButtonEl =\n",
              "            document.querySelector('#df-000db5c9-2ac8-4859-badc-ab51014c53d5 button');\n",
              "          quickchartButtonEl.style.display =\n",
              "            google.colab.kernel.accessAllowed ? 'block' : 'none';\n",
              "        })();\n",
              "      </script>\n",
              "    </div>\n",
              "\n",
              "  <div id=\"id_309ebf74-8a23-43fa-b333-d58c38ed6f73\">\n",
              "    <style>\n",
              "      .colab-df-generate {\n",
              "        background-color: #E8F0FE;\n",
              "        border: none;\n",
              "        border-radius: 50%;\n",
              "        cursor: pointer;\n",
              "        display: none;\n",
              "        fill: #1967D2;\n",
              "        height: 32px;\n",
              "        padding: 0 0 0 0;\n",
              "        width: 32px;\n",
              "      }\n",
              "\n",
              "      .colab-df-generate:hover {\n",
              "        background-color: #E2EBFA;\n",
              "        box-shadow: 0px 1px 2px rgba(60, 64, 67, 0.3), 0px 1px 3px 1px rgba(60, 64, 67, 0.15);\n",
              "        fill: #174EA6;\n",
              "      }\n",
              "\n",
              "      [theme=dark] .colab-df-generate {\n",
              "        background-color: #3B4455;\n",
              "        fill: #D2E3FC;\n",
              "      }\n",
              "\n",
              "      [theme=dark] .colab-df-generate:hover {\n",
              "        background-color: #434B5C;\n",
              "        box-shadow: 0px 1px 3px 1px rgba(0, 0, 0, 0.15);\n",
              "        filter: drop-shadow(0px 1px 2px rgba(0, 0, 0, 0.3));\n",
              "        fill: #FFFFFF;\n",
              "      }\n",
              "    </style>\n",
              "    <button class=\"colab-df-generate\" onclick=\"generateWithVariable('df')\"\n",
              "            title=\"Generate code using this dataframe.\"\n",
              "            style=\"display:none;\">\n",
              "\n",
              "  <svg xmlns=\"http://www.w3.org/2000/svg\" height=\"24px\"viewBox=\"0 0 24 24\"\n",
              "       width=\"24px\">\n",
              "    <path d=\"M7,19H8.4L18.45,9,17,7.55,7,17.6ZM5,21V16.75L18.45,3.32a2,2,0,0,1,2.83,0l1.4,1.43a1.91,1.91,0,0,1,.58,1.4,1.91,1.91,0,0,1-.58,1.4L9.25,21ZM18.45,9,17,7.55Zm-12,3A5.31,5.31,0,0,0,4.9,8.1,5.31,5.31,0,0,0,1,6.5,5.31,5.31,0,0,0,4.9,4.9,5.31,5.31,0,0,0,6.5,1,5.31,5.31,0,0,0,8.1,4.9,5.31,5.31,0,0,0,12,6.5,5.46,5.46,0,0,0,6.5,12Z\"/>\n",
              "  </svg>\n",
              "    </button>\n",
              "    <script>\n",
              "      (() => {\n",
              "      const buttonEl =\n",
              "        document.querySelector('#id_309ebf74-8a23-43fa-b333-d58c38ed6f73 button.colab-df-generate');\n",
              "      buttonEl.style.display =\n",
              "        google.colab.kernel.accessAllowed ? 'block' : 'none';\n",
              "\n",
              "      buttonEl.onclick = () => {\n",
              "        google.colab.notebook.generateWithVariable('df');\n",
              "      }\n",
              "      })();\n",
              "    </script>\n",
              "  </div>\n",
              "\n",
              "    </div>\n",
              "  </div>\n"
            ],
            "application/vnd.google.colaboratory.intrinsic+json": {
              "type": "dataframe",
              "variable_name": "df",
              "summary": "{\n  \"name\": \"df\",\n  \"rows\": 671,\n  \"fields\": [\n    {\n      \"column\": [\n        \"Date\",\n        \"\"\n      ],\n      \"properties\": {\n        \"dtype\": \"date\",\n        \"min\": \"2022-01-06 00:00:00\",\n        \"max\": \"2024-10-18 00:00:00\",\n        \"num_unique_values\": 671,\n        \"samples\": [\n          \"2023-07-07 00:00:00\",\n          \"2022-09-05 00:00:00\",\n          \"2023-12-28 00:00:00\"\n        ],\n        \"semantic_type\": \"\",\n        \"description\": \"\"\n      }\n    },\n    {\n      \"column\": [\n        \"Close\",\n        \"KAEF.JK\"\n      ],\n      \"properties\": {\n        \"dtype\": \"number\",\n        \"std\": 404.5062029246677,\n        \"min\": 560.0,\n        \"max\": 2561.618896484375,\n        \"num_unique_values\": 223,\n        \"samples\": [\n          2146.22119140625,\n          1420.0,\n          1130.0\n        ],\n        \"semantic_type\": \"\",\n        \"description\": \"\"\n      }\n    }\n  ]\n}"
            }
          },
          "metadata": {},
          "execution_count": 8
        }
      ]
    },
    {
      "cell_type": "code",
      "source": [
        "#Membuat data frame baru dari adj close\n",
        "data = df[['Close']].copy()  # Create a new DataFrame with 'Close'\n"
      ],
      "metadata": {
        "id": "R9Kd8le_4Kl3"
      },
      "execution_count": 9,
      "outputs": []
    },
    {
      "cell_type": "code",
      "source": [
        "# scale the data\n",
        "scaler = MinMaxScaler(feature_range=(0, 1))\n",
        "scaler = scaler.fit(y)\n",
        "y = scaler.transform(y)"
      ],
      "metadata": {
        "collapsed": true,
        "id": "9T6RbGhm8CN4"
      },
      "execution_count": 10,
      "outputs": []
    },
    {
      "cell_type": "code",
      "source": [
        "#print(y)"
      ],
      "metadata": {
        "id": "yAvkEi1HFgdf"
      },
      "execution_count": 11,
      "outputs": []
    },
    {
      "cell_type": "code",
      "source": [
        "#Menghitung jumlah baris untuk data training\n",
        "training_data_size=math.ceil(len(y)*.8)\n",
        "training_data_size"
      ],
      "metadata": {
        "colab": {
          "base_uri": "https://localhost:8080/",
          "height": 0
        },
        "id": "49Z_IBLy791v",
        "outputId": "f168b8b5-45e3-4704-8277-beea16b047d5"
      },
      "execution_count": 12,
      "outputs": [
        {
          "output_type": "execute_result",
          "data": {
            "text/plain": [
              "537"
            ]
          },
          "metadata": {},
          "execution_count": 12
        }
      ]
    },
    {
      "cell_type": "code",
      "source": [
        "#data yang telah di skala, di uji train\n",
        "train_data = y[0:training_data_size, :]\n",
        "#memisahkan Xtrain dan Ytrain\n",
        "x_train = []\n",
        "y_train = []\n",
        "\n",
        "for i in range(50, len(train_data)):\n",
        "  x_train.append(train_data[i-50:i, 0])\n",
        "  y_train.append(train_data[i, 0])\n",
        "  if i <= 51:\n",
        "    print(x_train)\n",
        "    print(y_train)"
      ],
      "metadata": {
        "colab": {
          "base_uri": "https://localhost:8080/",
          "height": 0
        },
        "collapsed": true,
        "id": "d_Cg6XiL8Gi4",
        "outputId": "d20195f4-a987-4c9f-efde-73b401aae821"
      },
      "execution_count": 13,
      "outputs": [
        {
          "output_type": "stream",
          "name": "stdout",
          "text": [
            "[array([0.94564666, 0.92588189, 1.        , 0.91599939, 0.88141093,\n",
            "       0.88141093, 0.86658736, 0.86658736, 0.78752794, 0.74799829,\n",
            "       0.74305704, 0.79246913, 0.80235164, 0.76776306, 0.77764556,\n",
            "       0.80235164, 0.79246913, 0.80729283, 0.80235164, 0.81717521,\n",
            "       0.81223402, 0.83694009, 0.8221164 , 0.81717521, 0.80729283,\n",
            "       0.81223402, 0.79246913, 0.77764556, 0.78752794, 0.78258675,\n",
            "       0.78258675, 0.78258675, 0.79246913, 0.79246913, 0.75788068,\n",
            "       0.75788068, 0.76282187, 0.74305704, 0.71835097, 0.66399768,\n",
            "       0.61458559, 0.58246773, 0.59976196, 0.61705619, 0.62693857,\n",
            "       0.60223256, 0.58493833, 0.58987952, 0.57505588, 0.57752648])]\n",
            "[np.float64(0.579997075121444)]\n",
            "[array([0.94564666, 0.92588189, 1.        , 0.91599939, 0.88141093,\n",
            "       0.88141093, 0.86658736, 0.86658736, 0.78752794, 0.74799829,\n",
            "       0.74305704, 0.79246913, 0.80235164, 0.76776306, 0.77764556,\n",
            "       0.80235164, 0.79246913, 0.80729283, 0.80235164, 0.81717521,\n",
            "       0.81223402, 0.83694009, 0.8221164 , 0.81717521, 0.80729283,\n",
            "       0.81223402, 0.79246913, 0.77764556, 0.78752794, 0.78258675,\n",
            "       0.78258675, 0.78258675, 0.79246913, 0.79246913, 0.75788068,\n",
            "       0.75788068, 0.76282187, 0.74305704, 0.71835097, 0.66399768,\n",
            "       0.61458559, 0.58246773, 0.59976196, 0.61705619, 0.62693857,\n",
            "       0.60223256, 0.58493833, 0.58987952, 0.57505588, 0.57752648]), array([0.92588189, 1.        , 0.91599939, 0.88141093, 0.88141093,\n",
            "       0.86658736, 0.86658736, 0.78752794, 0.74799829, 0.74305704,\n",
            "       0.79246913, 0.80235164, 0.76776306, 0.77764556, 0.80235164,\n",
            "       0.79246913, 0.80729283, 0.80235164, 0.81717521, 0.81223402,\n",
            "       0.83694009, 0.8221164 , 0.81717521, 0.80729283, 0.81223402,\n",
            "       0.79246913, 0.77764556, 0.78752794, 0.78258675, 0.78258675,\n",
            "       0.78258675, 0.79246913, 0.79246913, 0.75788068, 0.75788068,\n",
            "       0.76282187, 0.74305704, 0.71835097, 0.66399768, 0.61458559,\n",
            "       0.58246773, 0.59976196, 0.61705619, 0.62693857, 0.60223256,\n",
            "       0.58493833, 0.58987952, 0.57505588, 0.57752648, 0.57999708])]\n",
            "[np.float64(0.579997075121444), np.float64(0.5874089222944658)]\n"
          ]
        }
      ]
    },
    {
      "cell_type": "code",
      "source": [
        "#Ydatatrain = pd.DataFrame(y_train)\n",
        "#Ydatatrain.to_excel('Ydatatrain.xlsx', index=True)"
      ],
      "metadata": {
        "id": "z0gedOwHfDDS"
      },
      "execution_count": 14,
      "outputs": []
    },
    {
      "cell_type": "code",
      "source": [
        "# generate the input and output sequences\n",
        "n_lookback = 60  # length of input sequences (lookback period)\n",
        "n_forecast = 30  # length of output sequences (forecast period)"
      ],
      "metadata": {
        "id": "MfgspfYh8J3P"
      },
      "execution_count": 15,
      "outputs": []
    },
    {
      "cell_type": "code",
      "source": [
        "# Convert x_train and y_train to NumPy arrays\n",
        "x_train = np.array(x_train)\n",
        "y_train = np.array(y_train)\n",
        "# Reshape x_train to 3D for LSTM input\n",
        "x_train = x_train.reshape(x_train.shape[0], x_train.shape[1], 1)"
      ],
      "metadata": {
        "id": "dJvFhyx0IWyZ"
      },
      "execution_count": 16,
      "outputs": []
    },
    {
      "cell_type": "code",
      "source": [
        "#print(y_train)"
      ],
      "metadata": {
        "collapsed": true,
        "id": "LaFJSRu6LJs8"
      },
      "execution_count": 17,
      "outputs": []
    },
    {
      "cell_type": "code",
      "source": [
        "# Model\n",
        "model = Sequential()\n",
        "model.add(LSTM(units=50, return_sequences=True, input_shape=(n_lookback, 1)))\n",
        "model.add(LSTM(units=50))\n",
        "model.add(Dense(1))  # Dense layer untuk prediksi beberapa nilai sekaligus\n"
      ],
      "metadata": {
        "id": "6hzAGOm98Nu3",
        "colab": {
          "base_uri": "https://localhost:8080/",
          "height": 0
        },
        "outputId": "eb9ae934-96b7-4a0f-fa7d-28b4e4e987d8"
      },
      "execution_count": 18,
      "outputs": [
        {
          "output_type": "stream",
          "name": "stderr",
          "text": [
            "/usr/local/lib/python3.11/dist-packages/keras/src/layers/rnn/rnn.py:200: UserWarning: Do not pass an `input_shape`/`input_dim` argument to a layer. When using Sequential models, prefer using an `Input(shape)` object as the first layer in the model instead.\n",
            "  super().__init__(**kwargs)\n"
          ]
        }
      ]
    },
    {
      "cell_type": "code",
      "source": [
        "#kompilasi Model dengan fungsi MSE\n",
        "model.compile(optimizer='adam', loss='mean_squared_error')"
      ],
      "metadata": {
        "id": "zO8dLDN88ReR"
      },
      "execution_count": 19,
      "outputs": []
    },
    {
      "cell_type": "code",
      "source": [
        "model.summary()\n"
      ],
      "metadata": {
        "colab": {
          "base_uri": "https://localhost:8080/",
          "height": 225
        },
        "id": "zVlB_IZ6Yuu2",
        "outputId": "e7e80425-7130-4743-f90b-541011767746"
      },
      "execution_count": 20,
      "outputs": [
        {
          "output_type": "display_data",
          "data": {
            "text/plain": [
              "\u001b[1mModel: \"sequential\"\u001b[0m\n"
            ],
            "text/html": [
              "<pre style=\"white-space:pre;overflow-x:auto;line-height:normal;font-family:Menlo,'DejaVu Sans Mono',consolas,'Courier New',monospace\"><span style=\"font-weight: bold\">Model: \"sequential\"</span>\n",
              "</pre>\n"
            ]
          },
          "metadata": {}
        },
        {
          "output_type": "display_data",
          "data": {
            "text/plain": [
              "┏━━━━━━━━━━━━━━━━━━━━━━━━━━━━━━━━━┳━━━━━━━━━━━━━━━━━━━━━━━━┳━━━━━━━━━━━━━━━┓\n",
              "┃\u001b[1m \u001b[0m\u001b[1mLayer (type)                   \u001b[0m\u001b[1m \u001b[0m┃\u001b[1m \u001b[0m\u001b[1mOutput Shape          \u001b[0m\u001b[1m \u001b[0m┃\u001b[1m \u001b[0m\u001b[1m      Param #\u001b[0m\u001b[1m \u001b[0m┃\n",
              "┡━━━━━━━━━━━━━━━━━━━━━━━━━━━━━━━━━╇━━━━━━━━━━━━━━━━━━━━━━━━╇━━━━━━━━━━━━━━━┩\n",
              "│ lstm (\u001b[38;5;33mLSTM\u001b[0m)                     │ (\u001b[38;5;45mNone\u001b[0m, \u001b[38;5;34m60\u001b[0m, \u001b[38;5;34m50\u001b[0m)         │        \u001b[38;5;34m10,400\u001b[0m │\n",
              "├─────────────────────────────────┼────────────────────────┼───────────────┤\n",
              "│ lstm_1 (\u001b[38;5;33mLSTM\u001b[0m)                   │ (\u001b[38;5;45mNone\u001b[0m, \u001b[38;5;34m50\u001b[0m)             │        \u001b[38;5;34m20,200\u001b[0m │\n",
              "├─────────────────────────────────┼────────────────────────┼───────────────┤\n",
              "│ dense (\u001b[38;5;33mDense\u001b[0m)                   │ (\u001b[38;5;45mNone\u001b[0m, \u001b[38;5;34m1\u001b[0m)              │            \u001b[38;5;34m51\u001b[0m │\n",
              "└─────────────────────────────────┴────────────────────────┴───────────────┘\n"
            ],
            "text/html": [
              "<pre style=\"white-space:pre;overflow-x:auto;line-height:normal;font-family:Menlo,'DejaVu Sans Mono',consolas,'Courier New',monospace\">┏━━━━━━━━━━━━━━━━━━━━━━━━━━━━━━━━━┳━━━━━━━━━━━━━━━━━━━━━━━━┳━━━━━━━━━━━━━━━┓\n",
              "┃<span style=\"font-weight: bold\"> Layer (type)                    </span>┃<span style=\"font-weight: bold\"> Output Shape           </span>┃<span style=\"font-weight: bold\">       Param # </span>┃\n",
              "┡━━━━━━━━━━━━━━━━━━━━━━━━━━━━━━━━━╇━━━━━━━━━━━━━━━━━━━━━━━━╇━━━━━━━━━━━━━━━┩\n",
              "│ lstm (<span style=\"color: #0087ff; text-decoration-color: #0087ff\">LSTM</span>)                     │ (<span style=\"color: #00d7ff; text-decoration-color: #00d7ff\">None</span>, <span style=\"color: #00af00; text-decoration-color: #00af00\">60</span>, <span style=\"color: #00af00; text-decoration-color: #00af00\">50</span>)         │        <span style=\"color: #00af00; text-decoration-color: #00af00\">10,400</span> │\n",
              "├─────────────────────────────────┼────────────────────────┼───────────────┤\n",
              "│ lstm_1 (<span style=\"color: #0087ff; text-decoration-color: #0087ff\">LSTM</span>)                   │ (<span style=\"color: #00d7ff; text-decoration-color: #00d7ff\">None</span>, <span style=\"color: #00af00; text-decoration-color: #00af00\">50</span>)             │        <span style=\"color: #00af00; text-decoration-color: #00af00\">20,200</span> │\n",
              "├─────────────────────────────────┼────────────────────────┼───────────────┤\n",
              "│ dense (<span style=\"color: #0087ff; text-decoration-color: #0087ff\">Dense</span>)                   │ (<span style=\"color: #00d7ff; text-decoration-color: #00d7ff\">None</span>, <span style=\"color: #00af00; text-decoration-color: #00af00\">1</span>)              │            <span style=\"color: #00af00; text-decoration-color: #00af00\">51</span> │\n",
              "└─────────────────────────────────┴────────────────────────┴───────────────┘\n",
              "</pre>\n"
            ]
          },
          "metadata": {}
        },
        {
          "output_type": "display_data",
          "data": {
            "text/plain": [
              "\u001b[1m Total params: \u001b[0m\u001b[38;5;34m30,651\u001b[0m (119.73 KB)\n"
            ],
            "text/html": [
              "<pre style=\"white-space:pre;overflow-x:auto;line-height:normal;font-family:Menlo,'DejaVu Sans Mono',consolas,'Courier New',monospace\"><span style=\"font-weight: bold\"> Total params: </span><span style=\"color: #00af00; text-decoration-color: #00af00\">30,651</span> (119.73 KB)\n",
              "</pre>\n"
            ]
          },
          "metadata": {}
        },
        {
          "output_type": "display_data",
          "data": {
            "text/plain": [
              "\u001b[1m Trainable params: \u001b[0m\u001b[38;5;34m30,651\u001b[0m (119.73 KB)\n"
            ],
            "text/html": [
              "<pre style=\"white-space:pre;overflow-x:auto;line-height:normal;font-family:Menlo,'DejaVu Sans Mono',consolas,'Courier New',monospace\"><span style=\"font-weight: bold\"> Trainable params: </span><span style=\"color: #00af00; text-decoration-color: #00af00\">30,651</span> (119.73 KB)\n",
              "</pre>\n"
            ]
          },
          "metadata": {}
        },
        {
          "output_type": "display_data",
          "data": {
            "text/plain": [
              "\u001b[1m Non-trainable params: \u001b[0m\u001b[38;5;34m0\u001b[0m (0.00 B)\n"
            ],
            "text/html": [
              "<pre style=\"white-space:pre;overflow-x:auto;line-height:normal;font-family:Menlo,'DejaVu Sans Mono',consolas,'Courier New',monospace\"><span style=\"font-weight: bold\"> Non-trainable params: </span><span style=\"color: #00af00; text-decoration-color: #00af00\">0</span> (0.00 B)\n",
              "</pre>\n"
            ]
          },
          "metadata": {}
        }
      ]
    },
    {
      "cell_type": "code",
      "source": [
        "model.fit(x_train, y_train, batch_size=4, epochs=10 , verbose=1)"
      ],
      "metadata": {
        "id": "sQD-GMAO8U7Z",
        "colab": {
          "base_uri": "https://localhost:8080/",
          "height": 0
        },
        "collapsed": true,
        "outputId": "f77d548c-6414-4800-9745-054bd45c5782"
      },
      "execution_count": 21,
      "outputs": [
        {
          "output_type": "stream",
          "name": "stdout",
          "text": [
            "Epoch 1/10\n",
            "\u001b[1m122/122\u001b[0m \u001b[32m━━━━━━━━━━━━━━━━━━━━\u001b[0m\u001b[37m\u001b[0m \u001b[1m8s\u001b[0m 35ms/step - loss: 0.0088\n",
            "Epoch 2/10\n",
            "\u001b[1m122/122\u001b[0m \u001b[32m━━━━━━━━━━━━━━━━━━━━\u001b[0m\u001b[37m\u001b[0m \u001b[1m4s\u001b[0m 31ms/step - loss: 0.0013\n",
            "Epoch 3/10\n",
            "\u001b[1m122/122\u001b[0m \u001b[32m━━━━━━━━━━━━━━━━━━━━\u001b[0m\u001b[37m\u001b[0m \u001b[1m4s\u001b[0m 36ms/step - loss: 0.0023\n",
            "Epoch 4/10\n",
            "\u001b[1m122/122\u001b[0m \u001b[32m━━━━━━━━━━━━━━━━━━━━\u001b[0m\u001b[37m\u001b[0m \u001b[1m5s\u001b[0m 37ms/step - loss: 0.0017\n",
            "Epoch 5/10\n",
            "\u001b[1m122/122\u001b[0m \u001b[32m━━━━━━━━━━━━━━━━━━━━\u001b[0m\u001b[37m\u001b[0m \u001b[1m7s\u001b[0m 50ms/step - loss: 0.0011\n",
            "Epoch 6/10\n",
            "\u001b[1m122/122\u001b[0m \u001b[32m━━━━━━━━━━━━━━━━━━━━\u001b[0m\u001b[37m\u001b[0m \u001b[1m8s\u001b[0m 32ms/step - loss: 9.4466e-04\n",
            "Epoch 7/10\n",
            "\u001b[1m122/122\u001b[0m \u001b[32m━━━━━━━━━━━━━━━━━━━━\u001b[0m\u001b[37m\u001b[0m \u001b[1m4s\u001b[0m 34ms/step - loss: 9.6236e-04\n",
            "Epoch 8/10\n",
            "\u001b[1m122/122\u001b[0m \u001b[32m━━━━━━━━━━━━━━━━━━━━\u001b[0m\u001b[37m\u001b[0m \u001b[1m4s\u001b[0m 36ms/step - loss: 7.6181e-04\n",
            "Epoch 9/10\n",
            "\u001b[1m122/122\u001b[0m \u001b[32m━━━━━━━━━━━━━━━━━━━━\u001b[0m\u001b[37m\u001b[0m \u001b[1m4s\u001b[0m 32ms/step - loss: 7.6203e-04\n",
            "Epoch 10/10\n",
            "\u001b[1m122/122\u001b[0m \u001b[32m━━━━━━━━━━━━━━━━━━━━\u001b[0m\u001b[37m\u001b[0m \u001b[1m6s\u001b[0m 40ms/step - loss: 8.3359e-04\n"
          ]
        },
        {
          "output_type": "execute_result",
          "data": {
            "text/plain": [
              "<keras.src.callbacks.history.History at 0x7c4232d06310>"
            ]
          },
          "metadata": {},
          "execution_count": 21
        }
      ]
    },
    {
      "cell_type": "code",
      "source": [
        "#Data_test\n",
        "test_data = y[training_data_size-50:, :]\n",
        "#Membuat Xtest dengan Ytest\n",
        "x_test = []\n",
        "# Replace 'dataset' with 'y'\n",
        "y_test = y[training_data_size:, :]\n",
        "for i in range(50, len(test_data)):\n",
        "  x_test.append(test_data[i-50:i, 0])"
      ],
      "metadata": {
        "id": "yyOy3nEk92tK"
      },
      "execution_count": 22,
      "outputs": []
    },
    {
      "cell_type": "code",
      "source": [
        "# Periksa apakah data test tidak mengandung NaN sebelum prediksi\n",
        "print(\"Jumlah NaN dalam x_test:\", np.isnan(x_test).sum())"
      ],
      "metadata": {
        "id": "qIN5gxlU-CAG",
        "colab": {
          "base_uri": "https://localhost:8080/",
          "height": 0
        },
        "outputId": "a2f21a26-970e-491a-d7e8-5b1160b81faf"
      },
      "execution_count": 23,
      "outputs": [
        {
          "output_type": "stream",
          "name": "stdout",
          "text": [
            "Jumlah NaN dalam x_test: 0\n"
          ]
        }
      ]
    },
    {
      "cell_type": "code",
      "source": [
        "#konversi menjadi numpy array\n",
        "x_test = np.array(x_test)\n",
        "y_test = np.array(y_test)"
      ],
      "metadata": {
        "id": "3mVFpPUE-GJf"
      },
      "execution_count": 24,
      "outputs": []
    },
    {
      "cell_type": "code",
      "source": [
        "#Mengubah data train menjadi bentuk yang diterima LSTM\n",
        "x_test = np.reshape(x_test,(x_test.shape[0], x_test.shape[1], 1))\n",
        "x_test.shape"
      ],
      "metadata": {
        "id": "fLKrgOBq-Lo1",
        "colab": {
          "base_uri": "https://localhost:8080/",
          "height": 0
        },
        "outputId": "aade2561-76d1-498b-abef-6853fcbef3f5"
      },
      "execution_count": 25,
      "outputs": [
        {
          "output_type": "execute_result",
          "data": {
            "text/plain": [
              "(134, 50, 1)"
            ]
          },
          "metadata": {},
          "execution_count": 25
        }
      ]
    },
    {
      "cell_type": "code",
      "source": [
        "# prompt: buat kode untuk memprediksi model dengan variabel x_test\n",
        "\n",
        "predictions = model.predict(x_test)\n",
        "predictions = scaler.inverse_transform(predictions)\n"
      ],
      "metadata": {
        "id": "FyLLcx6l-M41",
        "colab": {
          "base_uri": "https://localhost:8080/",
          "height": 0
        },
        "outputId": "b3b2bfc2-e824-4e34-dbe0-cc5be558fbeb"
      },
      "execution_count": 26,
      "outputs": [
        {
          "output_type": "stream",
          "name": "stdout",
          "text": [
            "\u001b[1m5/5\u001b[0m \u001b[32m━━━━━━━━━━━━━━━━━━━━\u001b[0m\u001b[37m\u001b[0m \u001b[1m1s\u001b[0m 93ms/step\n"
          ]
        }
      ]
    },
    {
      "cell_type": "code",
      "source": [
        "predictions"
      ],
      "metadata": {
        "collapsed": true,
        "id": "VIoTwDwB-Rq0",
        "colab": {
          "base_uri": "https://localhost:8080/",
          "height": 0
        },
        "outputId": "b09dea68-c5a5-41ac-9e85-281e3235030f"
      },
      "execution_count": 27,
      "outputs": [
        {
          "output_type": "execute_result",
          "data": {
            "text/plain": [
              "array([[872.24023],\n",
              "       [906.17334],\n",
              "       [930.53516],\n",
              "       [942.5639 ],\n",
              "       [947.05646],\n",
              "       [942.77985],\n",
              "       [921.86725],\n",
              "       [900.1568 ],\n",
              "       [891.11334],\n",
              "       [877.213  ],\n",
              "       [852.9338 ],\n",
              "       [827.163  ],\n",
              "       [793.89044],\n",
              "       [767.5904 ],\n",
              "       [752.7324 ],\n",
              "       [745.0716 ],\n",
              "       [740.55963],\n",
              "       [736.84576],\n",
              "       [736.89667],\n",
              "       [741.26685],\n",
              "       [740.9328 ],\n",
              "       [741.1036 ],\n",
              "       [745.9724 ],\n",
              "       [749.1328 ],\n",
              "       [745.891  ],\n",
              "       [739.46265],\n",
              "       [734.9232 ],\n",
              "       [731.0499 ],\n",
              "       [727.2213 ],\n",
              "       [727.32855],\n",
              "       [735.5827 ],\n",
              "       [766.51587],\n",
              "       [793.66534],\n",
              "       [802.0717 ],\n",
              "       [803.6222 ],\n",
              "       [799.17   ],\n",
              "       [789.25287],\n",
              "       [775.23535],\n",
              "       [758.59644],\n",
              "       [744.8152 ],\n",
              "       [727.4231 ],\n",
              "       [698.3709 ],\n",
              "       [664.679  ],\n",
              "       [630.2106 ],\n",
              "       [610.38293],\n",
              "       [597.1591 ],\n",
              "       [589.7517 ],\n",
              "       [584.97485],\n",
              "       [578.0499 ],\n",
              "       [571.7538 ],\n",
              "       [569.1531 ],\n",
              "       [569.2004 ],\n",
              "       [571.85223],\n",
              "       [578.5319 ],\n",
              "       [583.5583 ],\n",
              "       [587.1681 ],\n",
              "       [593.4883 ],\n",
              "       [599.2654 ],\n",
              "       [608.6849 ],\n",
              "       [627.14923],\n",
              "       [643.98267],\n",
              "       [660.04333],\n",
              "       [672.80707],\n",
              "       [681.51154],\n",
              "       [685.4151 ],\n",
              "       [684.9787 ],\n",
              "       [682.2016 ],\n",
              "       [676.43097],\n",
              "       [667.96185],\n",
              "       [660.4812 ],\n",
              "       [654.57465],\n",
              "       [650.31683],\n",
              "       [644.53674],\n",
              "       [638.06683],\n",
              "       [632.42523],\n",
              "       [627.2195 ],\n",
              "       [623.20013],\n",
              "       [619.5612 ],\n",
              "       [612.9576 ],\n",
              "       [607.1754 ],\n",
              "       [603.8623 ],\n",
              "       [599.5352 ],\n",
              "       [596.55994],\n",
              "       [595.8482 ],\n",
              "       [596.4952 ],\n",
              "       [597.83356],\n",
              "       [598.45447],\n",
              "       [602.589  ],\n",
              "       [608.8065 ],\n",
              "       [615.05756],\n",
              "       [621.29083],\n",
              "       [629.4151 ],\n",
              "       [637.04706],\n",
              "       [670.21375],\n",
              "       [696.7392 ],\n",
              "       [716.27637],\n",
              "       [737.11456],\n",
              "       [753.26154],\n",
              "       [765.8828 ],\n",
              "       [776.0746 ],\n",
              "       [780.4295 ],\n",
              "       [779.62537],\n",
              "       [772.81573],\n",
              "       [765.1735 ],\n",
              "       [754.9249 ],\n",
              "       [748.3433 ],\n",
              "       [741.1953 ],\n",
              "       [741.43036],\n",
              "       [742.7489 ],\n",
              "       [744.4039 ],\n",
              "       [744.9088 ],\n",
              "       [748.063  ],\n",
              "       [752.9227 ],\n",
              "       [757.706  ],\n",
              "       [759.4636 ],\n",
              "       [761.69714],\n",
              "       [762.60443],\n",
              "       [765.9493 ],\n",
              "       [769.70087],\n",
              "       [783.7624 ],\n",
              "       [806.3633 ],\n",
              "       [825.1555 ],\n",
              "       [827.39197],\n",
              "       [819.5196 ],\n",
              "       [803.95984],\n",
              "       [782.32666],\n",
              "       [760.9281 ],\n",
              "       [743.5492 ],\n",
              "       [729.1155 ],\n",
              "       [721.99414],\n",
              "       [717.6114 ],\n",
              "       [717.7146 ],\n",
              "       [720.1699 ],\n",
              "       [723.59296]], dtype=float32)"
            ]
          },
          "metadata": {},
          "execution_count": 27
        }
      ]
    },
    {
      "cell_type": "code",
      "source": [
        "# prompt: menghitung akurasi dengan RMSE\n",
        "\n",
        "# Evaluate the model using RMSE\n",
        "rmse = np.sqrt(np.mean(((predictions - scaler.inverse_transform(y_test)) ** 2)))\n",
        "print('Root Mean Squared Error (RMSE):', rmse)"
      ],
      "metadata": {
        "colab": {
          "base_uri": "https://localhost:8080/",
          "height": 0
        },
        "id": "vaV3H5r4BsxL",
        "outputId": "07183cba-831f-4da8-ff45-82af56a48ab9"
      },
      "execution_count": 28,
      "outputs": [
        {
          "output_type": "stream",
          "name": "stdout",
          "text": [
            "Root Mean Squared Error (RMSE): 38.097628431040285\n"
          ]
        }
      ]
    },
    {
      "cell_type": "code",
      "source": [
        "# Calculate MAPE\n",
        "actual_values = scaler.inverse_transform(y_test)\n",
        "mape = np.mean(np.abs((actual_values - predictions) / actual_values)) * 100\n",
        "print(f'Mean Absolute Percentage Error (MAPE): {mape:.2f}%')"
      ],
      "metadata": {
        "colab": {
          "base_uri": "https://localhost:8080/",
          "height": 0
        },
        "id": "IoyEOnQuBywu",
        "outputId": "6f28085c-48d8-438d-d4ee-972ffed469f8"
      },
      "execution_count": 29,
      "outputs": [
        {
          "output_type": "stream",
          "name": "stdout",
          "text": [
            "Mean Absolute Percentage Error (MAPE): 3.82%\n"
          ]
        }
      ]
    },
    {
      "cell_type": "code",
      "source": [
        "# Data untuk grafik\n",
        "train = data[:training_data_size]\n",
        "valid = data[training_data_size:]\n",
        "valid['Predictions'] = predictions"
      ],
      "metadata": {
        "collapsed": true,
        "id": "e0QjsPUu-ifb",
        "colab": {
          "base_uri": "https://localhost:8080/",
          "height": 0
        },
        "outputId": "472c29a8-06e3-4e6b-a8e4-90259b3a748c"
      },
      "execution_count": 30,
      "outputs": [
        {
          "output_type": "stream",
          "name": "stderr",
          "text": [
            "<ipython-input-30-a3fe2ae785ba>:4: SettingWithCopyWarning: \n",
            "A value is trying to be set on a copy of a slice from a DataFrame.\n",
            "Try using .loc[row_indexer,col_indexer] = value instead\n",
            "\n",
            "See the caveats in the documentation: https://pandas.pydata.org/pandas-docs/stable/user_guide/indexing.html#returning-a-view-versus-a-copy\n",
            "  valid['Predictions'] = predictions\n"
          ]
        }
      ]
    },
    {
      "cell_type": "code",
      "source": [
        "# Visualisasi data\n",
        "#plt.figure(figsize=(16,8))\n",
        "#plt.title('Model LSTM')\n",
        "#plt.xlabel('Date')\n",
        "#plt.ylabel('Harga Adjust Close')\n",
        "#plt.plot(train['Adj Close'])\n",
        "#plt.plot(valid[['Adj Close', 'Predictions']])\n",
        "#plt.legend(['Train', 'Val', 'Predictions'], loc='upper right')\n",
        "#plt.show()"
      ],
      "metadata": {
        "id": "1CnB2TLwQNAE"
      },
      "execution_count": 31,
      "outputs": []
    },
    {
      "cell_type": "code",
      "source": [
        "# Prediksi 30 hari ke depan\n",
        "future_predictions = []\n",
        "last_60_days = test_data[-60:]  # Ambil data 60 hari terakhir dari test_data\n",
        "current_input = last_60_days.reshape(1, 60, 1)\n",
        "\n",
        "for _ in range(30):  # Iterasi selama 30 hari\n",
        "    # Prediksi nilai berikutnya\n",
        "     next_prediction = model.predict(current_input)\n",
        "     # Simpan hasil prediksi (dalam bentuk asli, sebelum scaling)\n",
        "     future_predictions.append(next_prediction[0, 0])\n",
        "    # Tambahkan prediksi ke input\n",
        "     current_input = np.append(current_input[:, 1:, :], [[[next_prediction[0, 0]]]], axis=1)\n",
        "\n",
        "# Transformasi kembali prediksi ke nilai asli\n",
        "future_predictions = scaler.inverse_transform(np.array(future_predictions).reshape(-1, 1))\n",
        "\n",
        "# Tanggal untuk prediksi 30 hari ke depan\n",
        "last_date = data.index[-1]\n",
        "future_dates = pd.date_range(last_date + pd.Timedelta(days=1), periods=30, freq='B')\n",
        "\n",
        "# Buat DataFrame untuk hasil prediksi\n",
        "future_df = pd.DataFrame({'Date': future_dates, 'Predictions': future_predictions.flatten()})\n",
        "future_df.set_index('Date', inplace=True)\n",
        "\n",
        "# Gabungkan hasil prediksi dengan data validasi\n",
        "plt.figure(figsize=(16, 8))\n",
        "plt.title('Model LSTM - Prediksi Masa Depan')\n",
        "plt.xlabel('Date')\n",
        "plt.ylabel('Harga Adjust Close')\n",
        "plt.plot(train['Close'], label='Train')\n",
        "plt.plot(valid['Close'], label='Valid')\n",
        "plt.plot(valid['Predictions'], label='Predictions')\n",
        "plt.plot(future_df['Predictions'], label='Future Predictions')\n",
        "plt.legend(loc='upper right')\n",
        "plt.show()\n"
      ],
      "metadata": {
        "id": "EkBwxC42-jo6",
        "colab": {
          "base_uri": "https://localhost:8080/",
          "height": 1000
        },
        "outputId": "d10e4eeb-d86c-4177-e0e4-3a245a2f1bb0"
      },
      "execution_count": 33,
      "outputs": [
        {
          "output_type": "stream",
          "name": "stdout",
          "text": [
            "\u001b[1m1/1\u001b[0m \u001b[32m━━━━━━━━━━━━━━━━━━━━\u001b[0m\u001b[37m\u001b[0m \u001b[1m0s\u001b[0m 48ms/step\n",
            "\u001b[1m1/1\u001b[0m \u001b[32m━━━━━━━━━━━━━━━━━━━━\u001b[0m\u001b[37m\u001b[0m \u001b[1m0s\u001b[0m 43ms/step\n",
            "\u001b[1m1/1\u001b[0m \u001b[32m━━━━━━━━━━━━━━━━━━━━\u001b[0m\u001b[37m\u001b[0m \u001b[1m0s\u001b[0m 45ms/step\n",
            "\u001b[1m1/1\u001b[0m \u001b[32m━━━━━━━━━━━━━━━━━━━━\u001b[0m\u001b[37m\u001b[0m \u001b[1m0s\u001b[0m 43ms/step\n",
            "\u001b[1m1/1\u001b[0m \u001b[32m━━━━━━━━━━━━━━━━━━━━\u001b[0m\u001b[37m\u001b[0m \u001b[1m0s\u001b[0m 44ms/step\n",
            "\u001b[1m1/1\u001b[0m \u001b[32m━━━━━━━━━━━━━━━━━━━━\u001b[0m\u001b[37m\u001b[0m \u001b[1m0s\u001b[0m 49ms/step\n",
            "\u001b[1m1/1\u001b[0m \u001b[32m━━━━━━━━━━━━━━━━━━━━\u001b[0m\u001b[37m\u001b[0m \u001b[1m0s\u001b[0m 46ms/step\n",
            "\u001b[1m1/1\u001b[0m \u001b[32m━━━━━━━━━━━━━━━━━━━━\u001b[0m\u001b[37m\u001b[0m \u001b[1m0s\u001b[0m 43ms/step\n",
            "\u001b[1m1/1\u001b[0m \u001b[32m━━━━━━━━━━━━━━━━━━━━\u001b[0m\u001b[37m\u001b[0m \u001b[1m0s\u001b[0m 47ms/step\n",
            "\u001b[1m1/1\u001b[0m \u001b[32m━━━━━━━━━━━━━━━━━━━━\u001b[0m\u001b[37m\u001b[0m \u001b[1m0s\u001b[0m 41ms/step\n",
            "\u001b[1m1/1\u001b[0m \u001b[32m━━━━━━━━━━━━━━━━━━━━\u001b[0m\u001b[37m\u001b[0m \u001b[1m0s\u001b[0m 44ms/step\n",
            "\u001b[1m1/1\u001b[0m \u001b[32m━━━━━━━━━━━━━━━━━━━━\u001b[0m\u001b[37m\u001b[0m \u001b[1m0s\u001b[0m 41ms/step\n",
            "\u001b[1m1/1\u001b[0m \u001b[32m━━━━━━━━━━━━━━━━━━━━\u001b[0m\u001b[37m\u001b[0m \u001b[1m0s\u001b[0m 40ms/step\n",
            "\u001b[1m1/1\u001b[0m \u001b[32m━━━━━━━━━━━━━━━━━━━━\u001b[0m\u001b[37m\u001b[0m \u001b[1m0s\u001b[0m 42ms/step\n",
            "\u001b[1m1/1\u001b[0m \u001b[32m━━━━━━━━━━━━━━━━━━━━\u001b[0m\u001b[37m\u001b[0m \u001b[1m0s\u001b[0m 42ms/step\n",
            "\u001b[1m1/1\u001b[0m \u001b[32m━━━━━━━━━━━━━━━━━━━━\u001b[0m\u001b[37m\u001b[0m \u001b[1m0s\u001b[0m 42ms/step\n",
            "\u001b[1m1/1\u001b[0m \u001b[32m━━━━━━━━━━━━━━━━━━━━\u001b[0m\u001b[37m\u001b[0m \u001b[1m0s\u001b[0m 41ms/step\n",
            "\u001b[1m1/1\u001b[0m \u001b[32m━━━━━━━━━━━━━━━━━━━━\u001b[0m\u001b[37m\u001b[0m \u001b[1m0s\u001b[0m 55ms/step\n",
            "\u001b[1m1/1\u001b[0m \u001b[32m━━━━━━━━━━━━━━━━━━━━\u001b[0m\u001b[37m\u001b[0m \u001b[1m0s\u001b[0m 44ms/step\n",
            "\u001b[1m1/1\u001b[0m \u001b[32m━━━━━━━━━━━━━━━━━━━━\u001b[0m\u001b[37m\u001b[0m \u001b[1m0s\u001b[0m 48ms/step\n",
            "\u001b[1m1/1\u001b[0m \u001b[32m━━━━━━━━━━━━━━━━━━━━\u001b[0m\u001b[37m\u001b[0m \u001b[1m0s\u001b[0m 44ms/step\n",
            "\u001b[1m1/1\u001b[0m \u001b[32m━━━━━━━━━━━━━━━━━━━━\u001b[0m\u001b[37m\u001b[0m \u001b[1m0s\u001b[0m 43ms/step\n",
            "\u001b[1m1/1\u001b[0m \u001b[32m━━━━━━━━━━━━━━━━━━━━\u001b[0m\u001b[37m\u001b[0m \u001b[1m0s\u001b[0m 41ms/step\n",
            "\u001b[1m1/1\u001b[0m \u001b[32m━━━━━━━━━━━━━━━━━━━━\u001b[0m\u001b[37m\u001b[0m \u001b[1m0s\u001b[0m 41ms/step\n",
            "\u001b[1m1/1\u001b[0m \u001b[32m━━━━━━━━━━━━━━━━━━━━\u001b[0m\u001b[37m\u001b[0m \u001b[1m0s\u001b[0m 43ms/step\n",
            "\u001b[1m1/1\u001b[0m \u001b[32m━━━━━━━━━━━━━━━━━━━━\u001b[0m\u001b[37m\u001b[0m \u001b[1m0s\u001b[0m 41ms/step\n",
            "\u001b[1m1/1\u001b[0m \u001b[32m━━━━━━━━━━━━━━━━━━━━\u001b[0m\u001b[37m\u001b[0m \u001b[1m0s\u001b[0m 54ms/step\n",
            "\u001b[1m1/1\u001b[0m \u001b[32m━━━━━━━━━━━━━━━━━━━━\u001b[0m\u001b[37m\u001b[0m \u001b[1m0s\u001b[0m 41ms/step\n",
            "\u001b[1m1/1\u001b[0m \u001b[32m━━━━━━━━━━━━━━━━━━━━\u001b[0m\u001b[37m\u001b[0m \u001b[1m0s\u001b[0m 43ms/step\n",
            "\u001b[1m1/1\u001b[0m \u001b[32m━━━━━━━━━━━━━━━━━━━━\u001b[0m\u001b[37m\u001b[0m \u001b[1m0s\u001b[0m 43ms/step\n"
          ]
        },
        {
          "output_type": "display_data",
          "data": {
            "text/plain": [
              "<Figure size 1600x800 with 1 Axes>"
            ],
            "image/png": "[encoded data removed]"
          },
          "metadata": {}
        }
      ]
    },
    {
      "cell_type": "code",
      "source": [
        "# prompt: saya ingin mendapatkan nilai prediksi 30 hari tersebut, data dengan plot bewarna merah\n",
        "\n",
        "import matplotlib.pyplot as plt\n",
        "\n",
        "# ... (your existing code) ...\n",
        "\n",
        "# Plot the 30-day predictions in red\n",
        "plt.figure(figsize=(16, 8))\n",
        "plt.title('Model LSTM - Prediksi Masa Depan')\n",
        "plt.xlabel('Date')\n",
        "plt.ylabel('Harga Adjust Close')\n",
        "plt.plot(train['Adj Close'], label='Train')\n",
        "plt.plot(valid['Adj Close'], label='Valid')\n",
        "plt.plot(valid['Predictions'], label='Predictions')\n",
        "plt.plot(future_df['Predictions'], color='red', label='Future Predictions (30 days)') #Plot future prediction in red\n",
        "plt.legend(loc='upper right')\n",
        "plt.show()\n",
        "\n",
        "# Print the future predictions\n",
        "future_df"
      ],
      "metadata": {
        "id": "cREg0SV0sj3V"
      },
      "execution_count": null,
      "outputs": []
    },
    {
      "cell_type": "code",
      "source": [
        "datafuture = pd.DataFrame(future_df)\n",
        "datafuture.to_excel('datafuture.xlsx', index=True)"
      ],
      "metadata": {
        "id": "b0SXyuQKtVtK"
      },
      "execution_count": null,
      "outputs": []
    }
  ]
}